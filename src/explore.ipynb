{
    "cells": [
        {
            "cell_type": "markdown",
            "metadata": {},
            "source": [
                "# Explore here"
            ]
        },
        {
            "cell_type": "code",
            "execution_count": 1,
            "metadata": {},
            "outputs": [
                {
                    "data": {
                        "text/html": [
                            "<div>\n",
                            "<style scoped>\n",
                            "    .dataframe tbody tr th:only-of-type {\n",
                            "        vertical-align: middle;\n",
                            "    }\n",
                            "\n",
                            "    .dataframe tbody tr th {\n",
                            "        vertical-align: top;\n",
                            "    }\n",
                            "\n",
                            "    .dataframe thead th {\n",
                            "        text-align: right;\n",
                            "    }\n",
                            "</style>\n",
                            "<table border=\"1\" class=\"dataframe\">\n",
                            "  <thead>\n",
                            "    <tr style=\"text-align: right;\">\n",
                            "      <th></th>\n",
                            "      <th>package_name</th>\n",
                            "      <th>review</th>\n",
                            "      <th>polarity</th>\n",
                            "    </tr>\n",
                            "  </thead>\n",
                            "  <tbody>\n",
                            "    <tr>\n",
                            "      <th>0</th>\n",
                            "      <td>com.facebook.katana</td>\n",
                            "      <td>privacy at least put some option appear offli...</td>\n",
                            "      <td>0</td>\n",
                            "    </tr>\n",
                            "    <tr>\n",
                            "      <th>1</th>\n",
                            "      <td>com.facebook.katana</td>\n",
                            "      <td>messenger issues ever since the last update, ...</td>\n",
                            "      <td>0</td>\n",
                            "    </tr>\n",
                            "    <tr>\n",
                            "      <th>2</th>\n",
                            "      <td>com.facebook.katana</td>\n",
                            "      <td>profile any time my wife or anybody has more ...</td>\n",
                            "      <td>0</td>\n",
                            "    </tr>\n",
                            "    <tr>\n",
                            "      <th>3</th>\n",
                            "      <td>com.facebook.katana</td>\n",
                            "      <td>the new features suck for those of us who don...</td>\n",
                            "      <td>0</td>\n",
                            "    </tr>\n",
                            "    <tr>\n",
                            "      <th>4</th>\n",
                            "      <td>com.facebook.katana</td>\n",
                            "      <td>forced reload on uploading pic on replying co...</td>\n",
                            "      <td>0</td>\n",
                            "    </tr>\n",
                            "  </tbody>\n",
                            "</table>\n",
                            "</div>"
                        ],
                        "text/plain": [
                            "          package_name                                             review  \\\n",
                            "0  com.facebook.katana   privacy at least put some option appear offli...   \n",
                            "1  com.facebook.katana   messenger issues ever since the last update, ...   \n",
                            "2  com.facebook.katana   profile any time my wife or anybody has more ...   \n",
                            "3  com.facebook.katana   the new features suck for those of us who don...   \n",
                            "4  com.facebook.katana   forced reload on uploading pic on replying co...   \n",
                            "\n",
                            "   polarity  \n",
                            "0         0  \n",
                            "1         0  \n",
                            "2         0  \n",
                            "3         0  \n",
                            "4         0  "
                        ]
                    },
                    "execution_count": 1,
                    "metadata": {},
                    "output_type": "execute_result"
                }
            ],
            "source": [
                "import pandas as pd\n",
                "\n",
                "df = pd.read_csv(\"https://raw.githubusercontent.com/4GeeksAcademy/naive-bayes-project-tutorial/main/playstore_reviews.csv\")\n",
                "df.head(5)"
            ]
        },
        {
            "cell_type": "code",
            "execution_count": 2,
            "metadata": {},
            "outputs": [
                {
                    "data": {
                        "text/html": [
                            "<div>\n",
                            "<style scoped>\n",
                            "    .dataframe tbody tr th:only-of-type {\n",
                            "        vertical-align: middle;\n",
                            "    }\n",
                            "\n",
                            "    .dataframe tbody tr th {\n",
                            "        vertical-align: top;\n",
                            "    }\n",
                            "\n",
                            "    .dataframe thead th {\n",
                            "        text-align: right;\n",
                            "    }\n",
                            "</style>\n",
                            "<table border=\"1\" class=\"dataframe\">\n",
                            "  <thead>\n",
                            "    <tr style=\"text-align: right;\">\n",
                            "      <th></th>\n",
                            "      <th>review</th>\n",
                            "      <th>polarity</th>\n",
                            "    </tr>\n",
                            "  </thead>\n",
                            "  <tbody>\n",
                            "    <tr>\n",
                            "      <th>0</th>\n",
                            "      <td>privacy at least put some option appear offlin...</td>\n",
                            "      <td>0</td>\n",
                            "    </tr>\n",
                            "    <tr>\n",
                            "      <th>1</th>\n",
                            "      <td>messenger issues ever since the last update, i...</td>\n",
                            "      <td>0</td>\n",
                            "    </tr>\n",
                            "    <tr>\n",
                            "      <th>2</th>\n",
                            "      <td>profile any time my wife or anybody has more t...</td>\n",
                            "      <td>0</td>\n",
                            "    </tr>\n",
                            "    <tr>\n",
                            "      <th>3</th>\n",
                            "      <td>the new features suck for those of us who don'...</td>\n",
                            "      <td>0</td>\n",
                            "    </tr>\n",
                            "    <tr>\n",
                            "      <th>4</th>\n",
                            "      <td>forced reload on uploading pic on replying com...</td>\n",
                            "      <td>0</td>\n",
                            "    </tr>\n",
                            "  </tbody>\n",
                            "</table>\n",
                            "</div>"
                        ],
                        "text/plain": [
                            "                                              review  polarity\n",
                            "0  privacy at least put some option appear offlin...         0\n",
                            "1  messenger issues ever since the last update, i...         0\n",
                            "2  profile any time my wife or anybody has more t...         0\n",
                            "3  the new features suck for those of us who don'...         0\n",
                            "4  forced reload on uploading pic on replying com...         0"
                        ]
                    },
                    "execution_count": 2,
                    "metadata": {},
                    "output_type": "execute_result"
                }
            ],
            "source": [
                "df.drop(columns=['package_name'], inplace=True)\n",
                "\n",
                "df['review'] = df['review'].str.strip().str.lower()\n",
                "\n",
                "df.head()\n"
            ]
        },
        {
            "cell_type": "code",
            "execution_count": 3,
            "metadata": {},
            "outputs": [
                {
                    "name": "stdout",
                    "output_type": "stream",
                    "text": [
                        "Tamaño de entrenamiento: 712\n",
                        "Tamaño de prueba: 179\n"
                    ]
                }
            ],
            "source": [
                "from sklearn.model_selection import train_test_split\n",
                "\n",
                "X = df[\"review\"]\n",
                "y = df[\"polarity\"]\n",
                "\n",
                "X_train, X_test, y_train, y_test = train_test_split(X, y, test_size=0.2, random_state=42)\n",
                "\n",
                "print(\"Tamaño de entrenamiento:\", len(X_train))\n",
                "print(\"Tamaño de prueba:\", len(X_test))\n"
            ]
        },
        {
            "cell_type": "code",
            "execution_count": 4,
            "metadata": {},
            "outputs": [
                {
                    "name": "stdout",
                    "output_type": "stream",
                    "text": [
                        "Forma de X_train: (712, 3310)\n",
                        "Forma de X_test: (179, 3310)\n"
                    ]
                }
            ],
            "source": [
                "from sklearn.feature_extraction.text import CountVectorizer\n",
                "\n",
                "vec_model = CountVectorizer(stop_words=\"english\")\n",
                "\n",
                "X_train_vec = vec_model.fit_transform(X_train).toarray()\n",
                "\n",
                "X_test_vec = vec_model.transform(X_test).toarray()\n",
                "\n",
                "print(\"Forma de X_train:\", X_train_vec.shape)\n",
                "print(\"Forma de X_test:\", X_test_vec.shape)"
            ]
        },
        {
            "cell_type": "code",
            "execution_count": 5,
            "metadata": {},
            "outputs": [
                {
                    "name": "stdout",
                    "output_type": "stream",
                    "text": [
                        "Accuracy: 0.8156424581005587\n",
                        "\n",
                        "Reporte de clasificación:\n",
                        "              precision    recall  f1-score   support\n",
                        "\n",
                        "           0       0.84      0.90      0.87       126\n",
                        "           1       0.73      0.60      0.66        53\n",
                        "\n",
                        "    accuracy                           0.82       179\n",
                        "   macro avg       0.79      0.75      0.77       179\n",
                        "weighted avg       0.81      0.82      0.81       179\n",
                        "\n"
                    ]
                }
            ],
            "source": [
                "from sklearn.naive_bayes import MultinomialNB\n",
                "from sklearn.metrics import accuracy_score, classification_report\n",
                "\n",
                "nb_model = MultinomialNB()\n",
                "nb_model.fit(X_train_vec, y_train)\n",
                "\n",
                "y_pred = nb_model.predict(X_test_vec)\n",
                "\n",
                "print(\"Accuracy:\", accuracy_score(y_test, y_pred))\n",
                "print(\"\\nReporte de clasificación:\")\n",
                "print(classification_report(y_test, y_pred))\n"
            ]
        },
        {
            "cell_type": "code",
            "execution_count": 6,
            "metadata": {},
            "outputs": [
                {
                    "name": "stdout",
                    "output_type": "stream",
                    "text": [
                        "BernoulliNB - Accuracy: 0.770949720670391\n",
                        "\n",
                        "Reporte de clasificación:\n",
                        "              precision    recall  f1-score   support\n",
                        "\n",
                        "           0       0.79      0.93      0.85       126\n",
                        "           1       0.70      0.40      0.51        53\n",
                        "\n",
                        "    accuracy                           0.77       179\n",
                        "   macro avg       0.74      0.66      0.68       179\n",
                        "weighted avg       0.76      0.77      0.75       179\n",
                        "\n"
                    ]
                }
            ],
            "source": [
                "from sklearn.naive_bayes import BernoulliNB\n",
                "\n",
                "bnb_model = BernoulliNB()\n",
                "bnb_model.fit(X_train_vec, y_train)\n",
                "y_pred_bnb = bnb_model.predict(X_test_vec)\n",
                "\n",
                "print(\"BernoulliNB - Accuracy:\", accuracy_score(y_test, y_pred_bnb))\n",
                "print(\"\\nReporte de clasificación:\")\n",
                "print(classification_report(y_test, y_pred_bnb))\n"
            ]
        },
        {
            "cell_type": "code",
            "execution_count": 7,
            "metadata": {},
            "outputs": [
                {
                    "name": "stdout",
                    "output_type": "stream",
                    "text": [
                        "GaussianNB - Accuracy: 0.8044692737430168\n",
                        "\n",
                        "Reporte de clasificación:\n",
                        "              precision    recall  f1-score   support\n",
                        "\n",
                        "           0       0.85      0.88      0.86       126\n",
                        "           1       0.69      0.62      0.65        53\n",
                        "\n",
                        "    accuracy                           0.80       179\n",
                        "   macro avg       0.77      0.75      0.76       179\n",
                        "weighted avg       0.80      0.80      0.80       179\n",
                        "\n"
                    ]
                }
            ],
            "source": [
                "from sklearn.naive_bayes import GaussianNB\n",
                "\n",
                "# Entrenar GaussianNB\n",
                "gnb_model = GaussianNB()\n",
                "gnb_model.fit(X_train_vec, y_train)\n",
                "y_pred_gnb = gnb_model.predict(X_test_vec)\n",
                "\n",
                "\n",
                "print(\"GaussianNB - Accuracy:\", accuracy_score(y_test, y_pred_gnb))\n",
                "print(\"\\nReporte de clasificación:\")\n",
                "print(classification_report(y_test, y_pred_gnb))\n"
            ]
        },
        {
            "cell_type": "markdown",
            "metadata": {},
            "source": [
                "Elegimos: MultinomialNB como nuestro modelo base.\n",
                "Ahora, tal como indica el Paso 4 DEL EJERCICIO vamos a intentar optimizar con RANDOM FOREST"
            ]
        },
        {
            "cell_type": "code",
            "execution_count": 8,
            "metadata": {},
            "outputs": [
                {
                    "name": "stdout",
                    "output_type": "stream",
                    "text": [
                        "Random Forest - Accuracy: 0.7988826815642458\n",
                        "\n",
                        "Reporte de clasificación:\n",
                        "              precision    recall  f1-score   support\n",
                        "\n",
                        "           0       0.88      0.83      0.85       126\n",
                        "           1       0.64      0.74      0.68        53\n",
                        "\n",
                        "    accuracy                           0.80       179\n",
                        "   macro avg       0.76      0.78      0.77       179\n",
                        "weighted avg       0.81      0.80      0.80       179\n",
                        "\n"
                    ]
                }
            ],
            "source": [
                "from sklearn.ensemble import RandomForestClassifier\n",
                "\n",
                "rf_model = RandomForestClassifier(n_estimators=100, random_state=42)\n",
                "rf_model.fit(X_train_vec, y_train)\n",
                "\n",
                "y_pred_rf = rf_model.predict(X_test_vec)\n",
                "\n",
                "print(\"Random Forest - Accuracy:\", accuracy_score(y_test, y_pred_rf))\n",
                "print(\"\\nReporte de clasificación:\")\n",
                "print(classification_report(y_test, y_pred_rf))\n"
            ]
        },
        {
            "cell_type": "markdown",
            "metadata": {},
            "source": [
                "Random Forest - Accuracy: 0.7988826815642458\n",
                "\n",
                "Reporte de clasificación:\n",
                "              precision    recall  f1-score   support\n",
                "\n",
                "           0       0.88      0.83      0.85       126\n",
                "           1       0.64      0.74      0.68        53\n",
                "\n",
                "    accuracy                           0.80       179\n",
                "   macro avg       0.76      0.78      0.77       179\n",
                "weighted avg       0.81      0.80      0.80       179"
            ]
        },
        {
            "cell_type": "markdown",
            "metadata": {},
            "source": [
                "Conclusión:\n",
                "\n",
                "Nos quedamos con MultinomialNB como modelo principal.\n",
                "\n",
                "Random Forest fue competitivo, pero no lo superó."
            ]
        },
        {
            "cell_type": "markdown",
            "metadata": {},
            "source": [
                "Explorar otras alternativas al modelo Naive Bayes."
            ]
        },
        {
            "cell_type": "code",
            "execution_count": 9,
            "metadata": {},
            "outputs": [
                {
                    "name": "stdout",
                    "output_type": "stream",
                    "text": [
                        "Logistic Regression - Accuracy: 0.8324022346368715\n",
                        "\n",
                        "Reporte de clasificación:\n",
                        "              precision    recall  f1-score   support\n",
                        "\n",
                        "           0       0.91      0.84      0.88       126\n",
                        "           1       0.68      0.81      0.74        53\n",
                        "\n",
                        "    accuracy                           0.83       179\n",
                        "   macro avg       0.80      0.83      0.81       179\n",
                        "weighted avg       0.85      0.83      0.84       179\n",
                        "\n"
                    ]
                }
            ],
            "source": [
                "from sklearn.linear_model import LogisticRegression\n",
                "\n",
                "lr_model = LogisticRegression(max_iter=1000)\n",
                "lr_model.fit(X_train_vec, y_train)\n",
                "\n",
                "y_pred_lr = lr_model.predict(X_test_vec)\n",
                "\n",
                "print(\"Logistic Regression - Accuracy:\", accuracy_score(y_test, y_pred_lr))\n",
                "print(\"\\nReporte de clasificación:\")\n",
                "print(classification_report(y_test, y_pred_lr))\n"
            ]
        },
        {
            "cell_type": "code",
            "execution_count": 10,
            "metadata": {},
            "outputs": [
                {
                    "name": "stderr",
                    "output_type": "stream",
                    "text": [
                        "/workspaces/Ejercicio_Naive_RENE/venv/lib/python3.11/site-packages/xgboost/training.py:183: UserWarning: [01:31:13] WARNING: /workspace/src/learner.cc:738: \n",
                        "Parameters: { \"use_label_encoder\" } are not used.\n",
                        "\n",
                        "  bst.update(dtrain, iteration=i, fobj=obj)\n"
                    ]
                },
                {
                    "name": "stdout",
                    "output_type": "stream",
                    "text": [
                        "XGBoost - Accuracy: 0.8100558659217877\n",
                        "\n",
                        "Reporte de clasificación:\n",
                        "              precision    recall  f1-score   support\n",
                        "\n",
                        "           0       0.87      0.87      0.87       126\n",
                        "           1       0.68      0.68      0.68        53\n",
                        "\n",
                        "    accuracy                           0.81       179\n",
                        "   macro avg       0.77      0.77      0.77       179\n",
                        "weighted avg       0.81      0.81      0.81       179\n",
                        "\n"
                    ]
                }
            ],
            "source": [
                "from xgboost import XGBClassifier\n",
                "from sklearn.metrics import classification_report, accuracy_score\n",
                "\n",
                "# Entrenar modelo XGBoost\n",
                "xgb_model = XGBClassifier(use_label_encoder=False, eval_metric='logloss', random_state=42)\n",
                "xgb_model.fit(X_train_vec, y_train)\n",
                "\n",
                "y_pred_xgb = xgb_model.predict(X_test_vec)\n",
                "\n",
                "print(\"XGBoost - Accuracy:\", accuracy_score(y_test, y_pred_xgb))\n",
                "print(\"\\nReporte de clasificación:\")\n",
                "print(classification_report(y_test, y_pred_xgb))\n"
            ]
        },
        {
            "cell_type": "markdown",
            "metadata": {},
            "source": [
                "Comparativa Final de Modelos\n",
                "\n",
                "Modelo\t        Accuracy\tComentarios clave\n",
                "MultinomialNB\t81.6%\t    Base robusto para texto\n",
                "\n",
                "LogisticRegression\t83.2%\tMejor en accuracy y recall para positivos.\n",
                "\n",
                "Random Forest\t    79.9%\tAceptable, pero con menor rendimiento.\n",
                "\n",
                "GaussianNB\t        80.4%\tFunciona, pero no es ideal para texto.\n",
                "\n",
                "BernoulliNB\t        77.1%\tEl peor desempeño.\n",
                "\n",
                "XGBoost\t            81.0%\tMuy parejo, pero no supera a regresión logística."
            ]
        },
        {
            "cell_type": "markdown",
            "metadata": {},
            "source": [
                "Conclusión y Recomendaciones\n",
                "\n",
                "Modelo final recomendado: LogisticRegression\n",
                "\n",
                "Mejor equilibrio entre precisión, recall y accuracy."
            ]
        }
    ],
    "metadata": {
        "kernelspec": {
            "display_name": "venv",
            "language": "python",
            "name": "python3"
        },
        "language_info": {
            "codemirror_mode": {
                "name": "ipython",
                "version": 3
            },
            "file_extension": ".py",
            "mimetype": "text/x-python",
            "name": "python",
            "nbconvert_exporter": "python",
            "pygments_lexer": "ipython3",
            "version": "3.11.4"
        },
        "orig_nbformat": 4
    },
    "nbformat": 4,
    "nbformat_minor": 2
}
